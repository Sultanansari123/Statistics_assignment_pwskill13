{
 "cells": [
  {
   "cell_type": "markdown",
   "id": "ca8a87f6-3ab0-4265-91ef-ef176b77b168",
   "metadata": {},
   "source": [
    "# Anova"
   ]
  },
  {
   "cell_type": "markdown",
   "id": "28262cc3-d9eb-4b8b-b0c4-2d29c685b7e0",
   "metadata": {},
   "source": [
    "# Ans1-"
   ]
  },
  {
   "cell_type": "markdown",
   "id": "ce82b351-02e2-41c0-a028-574014d9bb73",
   "metadata": {},
   "source": [
    "Assumptions for ANOVA:\n",
    "\n",
    "Homogeneity of variances: Variances of groups should be roughly equal.\n",
    "\n",
    "Normality: Data within groups should be normally distributed.\n",
    "\n",
    "Violations:\n",
    "Homogeneity: Unequal variances can lead to inaccurate results.\n",
    "\n",
    "Normality: Departure from normality may affect the reliability of ANOVA, especially with small sample sizes."
   ]
  },
  {
   "cell_type": "markdown",
   "id": "d93a38dd-a866-43e9-8f8a-4a7e2a179349",
   "metadata": {},
   "source": [
    "# Ans2-"
   ]
  },
  {
   "cell_type": "markdown",
   "id": "8934eefe-d09d-4af4-b773-9569201a6a3c",
   "metadata": {},
   "source": [
    "Three types of ANOVA:\n",
    "\n",
    "One-Way ANOVA:\n",
    "\n",
    "Use: To compare means of three or more independent groups.\n",
    "\n",
    "Example: Comparing average scores of students in different teaching methods.\n",
    "\n",
    "Two-Way ANOVA:\n",
    "Use: Examines the influence of two different categorical independent variables on a dependent variable.\n",
    "\n",
    "Example: Studying the effects of both gender and treatment on test scores.\n",
    "\n",
    "Repeated Measures ANOVA:\n",
    "Use: Analyzes data where the same subjects are used for each treatment or measurement.\n",
    "\n",
    "Example: Evaluating the performance of individuals under different conditions over time."
   ]
  },
  {
   "cell_type": "markdown",
   "id": "4e66713f-12ba-4003-a89a-5139ad69978f",
   "metadata": {},
   "source": [
    "# Ans3-"
   ]
  },
  {
   "cell_type": "markdown",
   "id": "a52b71cb-6355-4ca5-823c-faabc91315ca",
   "metadata": {},
   "source": [
    "Partitioning of Variance in ANOVA:\n",
    "In ANOVA, variance is divided into different components to assess the contributions of various sources to the overall variability in the data. These components typically include variance between groups and variance within groups.\n",
    "\n",
    "Importance:\n",
    "Understanding the partitioning of variance helps identify:\n",
    "\n",
    "Between-Group Differences: Determines if there are significant differences among group means.\n",
    "\n",
    "Within-Group Variability: Assesses the consistency or variability of scores within each group.\n",
    "Overall Significance: Enables researchers to make informed conclusions about the impact of factors being studied."
   ]
  },
  {
   "cell_type": "markdown",
   "id": "e6cd5d4a-e8b5-42a7-bc5e-c7040ad172be",
   "metadata": {},
   "source": [
    "# Ans4-"
   ]
  },
  {
   "cell_type": "code",
   "execution_count": 1,
   "id": "022a46d0-3f93-452d-bc18-6b429b432418",
   "metadata": {},
   "outputs": [
    {
     "name": "stdout",
     "output_type": "stream",
     "text": [
      "Total Sum of Squares (SST): 759.1576480861104\n",
      "Explained Sum of Squares (SSE): 122.75890510307667\n",
      "Residual Sum of Squares (SSR): 636.3987429830337\n"
     ]
    }
   ],
   "source": [
    "import numpy as np\n",
    "import pandas as pd\n",
    "import statsmodels.api as sm\n",
    "from statsmodels.formula.api import ols\n",
    "\n",
    "# Simulated data\n",
    "data = {'GroupA': np.random.normal(0, 1, 50),\n",
    "        'GroupB': np.random.normal(2, 1, 50),\n",
    "        'GroupC': np.random.normal(5, 1, 50)}\n",
    "\n",
    "df = pd.DataFrame(data)\n",
    "\n",
    "# Flatten the data for OLS\n",
    "stacked_data = df.stack().reset_index()\n",
    "stacked_data.columns = ['Index', 'Group', 'Value']\n",
    "\n",
    "# Fit the OLS model\n",
    "model = ols('Value ~ Group', data=stacked_data).fit()\n",
    "\n",
    "# Calculate SST, SSE, and SSR\n",
    "SST = np.sum((stacked_data['Value'] - np.mean(stacked_data['Value']))**2)\n",
    "SSE = np.sum(model.resid**2)\n",
    "SSR = SST - SSE\n",
    "\n",
    "print(f'Total Sum of Squares (SST): {SST}')\n",
    "print(f'Explained Sum of Squares (SSE): {SSE}')\n",
    "print(f'Residual Sum of Squares (SSR): {SSR}')\n"
   ]
  },
  {
   "cell_type": "markdown",
   "id": "5618bb11-4802-480a-8336-7f250ae872e7",
   "metadata": {},
   "source": [
    "# Ans5-"
   ]
  },
  {
   "cell_type": "markdown",
   "id": "c1c3baa1-eca5-4333-a302-e64215e58f51",
   "metadata": {},
   "source": [
    "With an F-statistic of 5.23 and a p-value of 0.02 in a one-way ANOVA:\n",
    "\n",
    "Statistical Significance:\n",
    "\n",
    "The F-statistic indicates that there are significant differences among the group means.\n",
    "Interpretation:\n",
    "\n",
    "Since the p-value (0.02) is less than the commonly chosen significance level of 0.05, you would reject the null hypothesis.\n",
    "This suggests that at least one group mean is significantly different from the others.\n",
    "Conclusion:\n",
    "\n",
    "There is evidence to support the presence of statistically significant differences between the groups."
   ]
  },
  {
   "cell_type": "markdown",
   "id": "6e5cd546-2260-40d8-93bf-fdc64efc52b9",
   "metadata": {},
   "source": [
    "# Ans7-"
   ]
  },
  {
   "cell_type": "markdown",
   "id": "c3e019a6-f530-432e-9a2a-334af5ef180c",
   "metadata": {},
   "source": [
    "Handling Missing Data in Repeated Measures ANOVA:\n",
    "\n",
    "Complete Case Analysis (CCA):\n",
    "\n",
    "Use only cases with complete data for all time points.\n",
    "Potential consequence: Loss of data may lead to reduced sample size and biased results if missingness is not completely at random.\n",
    "Maximum Likelihood Estimation (MLE):\n",
    "\n",
    "Utilize all available data to estimate parameters.\n",
    "Potential consequence: Assumes missing data are missing at random (MAR); results can be unbiased if MAR holds, but sensitivity to the missing data mechanism is crucial.\n",
    "Multiple Imputation:\n",
    "\n",
    "Generate multiple datasets with imputed values and combine results.\n",
    "Potential consequence: Requires more computational resources but provides more robust estimates, accounting for uncertainty related to missing data."
   ]
  },
  {
   "cell_type": "markdown",
   "id": "c66bb6b1-296e-4c8a-804b-c9dbc3d9d510",
   "metadata": {},
   "source": [
    "onsequences of Different Methods:\n",
    "\n",
    "Biased Results: Choosing an inappropriate method can introduce bias into the analysis.\n",
    "\n",
    "Loss of Power: Complete case analysis may lead to reduced statistical power due to smaller sample sizes."
   ]
  },
  {
   "cell_type": "markdown",
   "id": "4e736f1c-0c98-4c05-b4bc-9f13703c3b21",
   "metadata": {},
   "source": [
    "# Ans8"
   ]
  },
  {
   "cell_type": "markdown",
   "id": "05f9f8ab-3603-416c-8b02-a89476b5610a",
   "metadata": {},
   "source": [
    "Common Post-Hoc Tests After ANOVA:\n",
    "\n",
    "Tukey's Honestly Significant Difference (HSD):\n",
    "\n",
    "Use: To identify which specific groups differ from each other after a significant ANOVA result.\n",
    "Example: Comparing the mean scores of multiple teaching methods to determine if any pair shows a significant difference.\n",
    "Bonferroni Correction:\n",
    "\n",
    "Use: Controls the familywise error rate when conducting multiple pairwise comparisons.\n",
    "Example: Examining the differences between several drug treatments to avoid Type I errors in multiple comparisons.\n",
    "Scheffe's Test:\n",
    "\n",
    "Use: Conservative test for multiple comparisons, suitable when sample sizes are unequal.\n",
    "Example: Analyzing the performance of different training programs in a workplace with varying participant numbers.\n",
    "Duncan's Multiple Range Test:\n",
    "\n",
    "Use: Determines groups that are significantly different from each other, especially in situations with unequal sample sizes.\n",
    "Example: Assessing the yields of different fertilizer treatments in agriculture.\n",
    "When to Use Post-Hoc Tests:\n",
    "\n",
    "After a significant ANOVA result, post-hoc tests help pinpoint which specific groups differ from each other.\n",
    "Use when you have more than two groups and want to explore pairwise differences.\n",
    "Necessary when there are multiple comparisons to control for Type I errors.\n",
    "Example Situation:\n",
    "Suppose you conducted a one-way ANOVA comparing the effectiveness of three different exercise programs on weight loss. If the ANOVA yields a significant result, a post-hoc test (e.g., Tukey's HSD) would be necessary to identify which exercise programs lead to significantly different weight loss outcomes. This helps in making more detailed and nuanced interpretations beyond the overall ANOVA result."
   ]
  },
  {
   "cell_type": "markdown",
   "id": "6252fdb1-c163-48c9-9256-006cab87047b",
   "metadata": {},
   "source": [
    "# Ans9-"
   ]
  },
  {
   "cell_type": "code",
   "execution_count": 2,
   "id": "5249317b-f35d-47b2-baf8-ee570b8ec255",
   "metadata": {},
   "outputs": [
    {
     "name": "stdout",
     "output_type": "stream",
     "text": [
      "F-statistic: 67.61854911979148\n",
      "p-value: 1.5055246613126342e-21\n",
      "There is significant evidence to reject the null hypothesis.\n",
      "At least one diet has a different mean weight loss.\n"
     ]
    }
   ],
   "source": [
    "import scipy.stats as stats\n",
    "import numpy as np\n",
    "\n",
    "# Simulated data (replace with actual data)\n",
    "np.random.seed(42)  # for reproducibility\n",
    "data_A = np.random.normal(2, 1, 50)\n",
    "data_B = np.random.normal(3, 1, 50)\n",
    "data_C = np.random.normal(4, 1, 50)\n",
    "\n",
    "# Perform one-way ANOVA\n",
    "f_statistic, p_value = stats.f_oneway(data_A, data_B, data_C)\n",
    "\n",
    "# Print results\n",
    "print(f'F-statistic: {f_statistic}')\n",
    "print(f'p-value: {p_value}')\n",
    "\n",
    "# Interpretation\n",
    "if p_value < 0.05:\n",
    "    print(\"There is significant evidence to reject the null hypothesis.\")\n",
    "    print(\"At least one diet has a different mean weight loss.\")\n",
    "else:\n",
    "    print(\"There is not enough evidence to reject the null hypothesis.\")\n",
    "    print(\"There may not be a significant difference in mean weight loss between the diets.\")\n"
   ]
  },
  {
   "cell_type": "code",
   "execution_count": null,
   "id": "24a821e7-b903-4f97-a637-18e486335204",
   "metadata": {},
   "outputs": [],
   "source": []
  }
 ],
 "metadata": {
  "kernelspec": {
   "display_name": "Python 3 (ipykernel)",
   "language": "python",
   "name": "python3"
  },
  "language_info": {
   "codemirror_mode": {
    "name": "ipython",
    "version": 3
   },
   "file_extension": ".py",
   "mimetype": "text/x-python",
   "name": "python",
   "nbconvert_exporter": "python",
   "pygments_lexer": "ipython3",
   "version": "3.10.8"
  }
 },
 "nbformat": 4,
 "nbformat_minor": 5
}
